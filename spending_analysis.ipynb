{
 "cells": [
  {
   "cell_type": "markdown",
   "metadata": {},
   "source": [
    "script to look at combingin spending into one consistent set of data\n",
    "\n",
    "also try to help with auto tagging the spending \n",
    "\n",
    "---\n",
    "So far in this script:\n",
    "\n",
    "we have:\n",
    "- read in spending data from first direct and amex\n",
    "- added in tags from the tagged files taken from pythonista\n",
    "- put in place a placeholder \"untagged\" if there is no tag there\n",
    "\n",
    "In another notbook we can look at inferring tags from relatednes. "
   ]
  },
  {
   "cell_type": "code",
   "execution_count": 5,
   "metadata": {},
   "outputs": [
    {
     "name": "stdout",
     "output_type": "stream",
     "text": [
      "20161126_85579686.QIF    20190119_85579686.CSV    data-nov.txt\n",
      "20170106_85579686.QIF    20190219_85579686.CSV    ofx-1.csv\n",
      "20170504_85579686.QIF    20190312_85579686.CSV    ofx-2.csv\n",
      "20170801_85579686.QIF    README.md                ofx-3.csv\n",
      "20181220_85579686-1.CSV  data-dec.txt             spending_analysis.ipynb\n",
      "20190109_85579686.CSV    data-jan-19.txt          test-repprt.txt\n"
     ]
    }
   ],
   "source": [
    "ls"
   ]
  },
  {
   "cell_type": "code",
   "execution_count": 4,
   "metadata": {},
   "outputs": [],
   "source": [
    "import csv\n",
    "import glob\n",
    "import collections\n",
    "from difflib import SequenceMatcher"
   ]
  },
  {
   "cell_type": "markdown",
   "metadata": {},
   "source": [
    "# Read in the data from local disk"
   ]
  },
  {
   "cell_type": "code",
   "execution_count": 5,
   "metadata": {},
   "outputs": [],
   "source": [
    "def get_first_direct_csv_files():\n",
    "    fd_csv_files = glob.glob(\"/Users/ianm/Dropbox/workbench/monthly-tracker/*85579686.CSV\")\n",
    "    return fd_csv_files "
   ]
  },
  {
   "cell_type": "code",
   "execution_count": 6,
   "metadata": {},
   "outputs": [],
   "source": [
    "def get_amex_csv_files():\n",
    "    amex_csv_files = glob.glob(\"/Users/ianm/Dropbox/workbench/monthly-tracker/ofx*\")\n",
    "    return amex_csv_files"
   ]
  },
  {
   "cell_type": "code",
   "execution_count": 7,
   "metadata": {},
   "outputs": [],
   "source": [
    "fd_csv_files = get_first_direct_csv_files()\n",
    "amex_csv_files = get_amex_csv_files()"
   ]
  },
  {
   "cell_type": "markdown",
   "metadata": {},
   "source": [
    "# Process CSV files from first direct"
   ]
  },
  {
   "cell_type": "code",
   "execution_count": 8,
   "metadata": {},
   "outputs": [],
   "source": [
    "def reformat_fd_date(date):\n",
    "    reformatted_date_parts = date.split(\"/\")\n",
    "    reformatted_date = reformatted_date_parts[-1] + \"-\" + reformatted_date_parts[1] + \"-\" + reformatted_date_parts[0]\n",
    "#     print(reformatted_date)\n",
    "    return reformatted_date"
   ]
  },
  {
   "cell_type": "code",
   "execution_count": 9,
   "metadata": {},
   "outputs": [],
   "source": [
    "def read_fd_csv_file(filename):\n",
    "    spends = []\n",
    "    with open(filename) as csv_file:\n",
    "        csv_reader = csv.reader(csv_file)\n",
    "        next(csv_reader) # skip the header row! \n",
    "        for row in csv_reader:\n",
    "            date = reformat_fd_date(row[0])\n",
    "            description = row[1]\n",
    "            amount = row[2]\n",
    "            spends.append((date, description, amount))\n",
    "    return spends"
   ]
  },
  {
   "cell_type": "code",
   "execution_count": 10,
   "metadata": {},
   "outputs": [],
   "source": [
    "fd_spending = []\n",
    "for file in fd_csv_files:\n",
    "    fd_info = read_fd_csv_file(fd_csv_files[0])\n",
    "    fd_spending.extend(fd_info)\n",
    "#     for spend in fd_info:\n",
    "#         if spend in fd_spending:\n",
    "#             print(spend), \n",
    "#             print(\"is already added\")\n",
    "#         else:\n",
    "#            fd_spending.append(spend)"
   ]
  },
  {
   "cell_type": "code",
   "execution_count": 11,
   "metadata": {},
   "outputs": [],
   "source": [
    "de_duped_fd_spending = list(set(fd_spending))"
   ]
  },
  {
   "cell_type": "code",
   "execution_count": 12,
   "metadata": {},
   "outputs": [
    {
     "data": {
      "text/plain": [
       "188"
      ]
     },
     "execution_count": 12,
     "metadata": {},
     "output_type": "execute_result"
    }
   ],
   "source": [
    "de_duped_fd_spending.sort()\n",
    "len(de_duped_fd_spending)"
   ]
  },
  {
   "cell_type": "markdown",
   "metadata": {},
   "source": [
    "# Process files from american express"
   ]
  },
  {
   "cell_type": "code",
   "execution_count": 13,
   "metadata": {},
   "outputs": [],
   "source": [
    "def read_amex_csv_file(filename):\n",
    "    spends = []\n",
    "    with open(filename) as csv_file:\n",
    "        csv_reader = csv.reader(csv_file)\n",
    "        next(csv_reader) # skip the header row! \n",
    "        for row in csv_reader:\n",
    "            date = reformat_fd_date(row[0])\n",
    "            description = row[3]\n",
    "            amount = row[2]\n",
    "            spends.append((date, description, amount))\n",
    "    return spends"
   ]
  },
  {
   "cell_type": "code",
   "execution_count": 14,
   "metadata": {},
   "outputs": [],
   "source": [
    "amex_spends = []\n",
    "for file in amex_csv_files:\n",
    "    amex_spend = read_amex_csv_file(file)\n",
    "    amex_spends.extend(amex_spend)"
   ]
  },
  {
   "cell_type": "code",
   "execution_count": 15,
   "metadata": {},
   "outputs": [],
   "source": [
    "de_duped_amexx_spending = list(set(amex_spends))"
   ]
  },
  {
   "cell_type": "markdown",
   "metadata": {},
   "source": [
    "# merge amex and first direct speding."
   ]
  },
  {
   "cell_type": "code",
   "execution_count": 16,
   "metadata": {},
   "outputs": [
    {
     "data": {
      "text/plain": [
       "419"
      ]
     },
     "execution_count": 16,
     "metadata": {},
     "output_type": "execute_result"
    }
   ],
   "source": [
    "all_spending = de_duped_fd_spending.copy()\n",
    "all_spending.extend(de_duped_amexx_spending)\n",
    "len(all_spending)"
   ]
  },
  {
   "cell_type": "markdown",
   "metadata": {},
   "source": [
    "# get all tagged data that we stored in the other notebook"
   ]
  },
  {
   "cell_type": "code",
   "execution_count": 17,
   "metadata": {},
   "outputs": [],
   "source": [
    "%store -r all_tagged_data"
   ]
  },
  {
   "cell_type": "code",
   "execution_count": 18,
   "metadata": {},
   "outputs": [
    {
     "data": {
      "text/plain": [
       "425"
      ]
     },
     "execution_count": 18,
     "metadata": {},
     "output_type": "execute_result"
    }
   ],
   "source": [
    "len(all_tagged_data)"
   ]
  },
  {
   "cell_type": "markdown",
   "metadata": {},
   "source": [
    "# get similarity between all tagged data and already loaded spending data"
   ]
  },
  {
   "cell_type": "code",
   "execution_count": 32,
   "metadata": {},
   "outputs": [],
   "source": [
    "def similar(a, b):\n",
    "    return SequenceMatcher(None, a, b).ratio()"
   ]
  },
  {
   "cell_type": "code",
   "execution_count": 19,
   "metadata": {},
   "outputs": [
    {
     "name": "stdout",
     "output_type": "stream",
     "text": [
      "0\n"
     ]
    }
   ],
   "source": [
    "matched_count = 0 \n",
    "for spend in all_tagged_data:\n",
    "    spend_test_string = spend[0] + spend[1] + spend[2]\n",
    "    for existing_spend in all_spending:\n",
    "        check_string = existing_spend[0] + existing_spend[1] + existing_spend[2]\n",
    "        similar_metric = similar(spend_test_string, check_string)\n",
    "        if similar_metric > 0.933: # visual inspection tells us these are all matches\n",
    "            tag = spend[3]\n",
    "print(matched_count)"
   ]
  },
  {
   "cell_type": "code",
   "execution_count": 20,
   "metadata": {},
   "outputs": [],
   "source": [
    "matched_count = 0 \n",
    "all_spend_with_tags = []\n",
    "for existing_spend in all_spending:\n",
    "    spend_test_string = existing_spend[0] + existing_spend[1] + existing_spend[2]\n",
    "    spend_with_tags = [existing_spend[0], existing_spend[1], existing_spend[2], \"untagged\"]\n",
    "    tag_match = False    \n",
    "    for spend in all_tagged_data:\n",
    "        check_string = spend[0] + spend[1] + spend[2]\n",
    "        similar_metric = similar(spend_test_string, check_string)\n",
    "        if similar_metric > 0.933: # visual inspection tells us these are all matches\n",
    "            tag = spend[3]\n",
    "            spend_with_tags = [existing_spend[0], existing_spend[1], existing_spend[2], tag]\n",
    "            all_spend_with_tags.append(spend_with_tags)\n",
    "            tag_match = True\n",
    "            break\n",
    "    if not tag_match: all_spend_with_tags.append(spend_with_tags)"
   ]
  },
  {
   "cell_type": "code",
   "execution_count": 21,
   "metadata": {},
   "outputs": [
    {
     "data": {
      "text/plain": [
       "419"
      ]
     },
     "execution_count": 21,
     "metadata": {},
     "output_type": "execute_result"
    }
   ],
   "source": [
    "len(all_spend_with_tags)"
   ]
  },
  {
   "cell_type": "code",
   "execution_count": 19,
   "metadata": {},
   "outputs": [
    {
     "name": "stdout",
     "output_type": "stream",
     "text": [
      "Stored 'all_spend_with_tags' (list)\n"
     ]
    }
   ],
   "source": [
    "%store all_spend_with_tags"
   ]
  },
  {
   "cell_type": "code",
   "execution_count": 23,
   "metadata": {},
   "outputs": [],
   "source": [
    "%store -r all_spend_with_tags"
   ]
  },
  {
   "cell_type": "code",
   "execution_count": 24,
   "metadata": {},
   "outputs": [
    {
     "data": {
      "text/plain": [
       "[['2018-12-18', '404758 85579694    INTERNAL TRANSFER', '130.00', 'untagged'],\n",
       " ['2018-12-18', 'AMERICAN EXPRESS   WWW.AMERICANE', '-393.17', 'untagged'],\n",
       " ['2018-12-18', 'CO-OP GROUP FOOD   108942', '-3.15', 'food']]"
      ]
     },
     "execution_count": 24,
     "metadata": {},
     "output_type": "execute_result"
    }
   ],
   "source": [
    "all_spend_with_tags[0:3]"
   ]
  },
  {
   "cell_type": "markdown",
   "metadata": {},
   "source": [
    "# try to do some auto-tagging guess work on the now clean tagged data"
   ]
  },
  {
   "cell_type": "code",
   "execution_count": 20,
   "metadata": {},
   "outputs": [],
   "source": [
    "tagged_list = []\n",
    "untagged_list = []\n",
    "for spend in all_spend_with_tags:\n",
    "    if spend[3] == 'untagged':\n",
    "        untagged_list.append(spend)\n",
    "    else:\n",
    "        tagged_list.append(spend)"
   ]
  },
  {
   "cell_type": "code",
   "execution_count": 21,
   "metadata": {},
   "outputs": [
    {
     "name": "stdout",
     "output_type": "stream",
     "text": [
      "Stored 'tagged_list' (list)\n"
     ]
    }
   ],
   "source": [
    "%store tagged_list"
   ]
  },
  {
   "cell_type": "code",
   "execution_count": 22,
   "metadata": {},
   "outputs": [
    {
     "name": "stdout",
     "output_type": "stream",
     "text": [
      "Stored 'untagged_list' (list)\n"
     ]
    }
   ],
   "source": [
    "%store untagged_list"
   ]
  },
  {
   "cell_type": "code",
   "execution_count": 57,
   "metadata": {},
   "outputs": [],
   "source": [
    "#TODO have a think about this function, as I've created a number of bugs in it, and it's a little bit subtle\n",
    "def create_groups(spending_list):\n",
    "    processed = []\n",
    "    spending_groups = []\n",
    "    compare_list = spending_list.copy()\n",
    "    for spend in spending_list:\n",
    "        grouping = []\n",
    "        if spend not in processed: grouping.append(spend) # this was it, this was where the problem was! \n",
    "        processed.append(spend) # this is our memory\n",
    "        compare_list.remove(spend)\n",
    "        for compare in compare_list: # look at all of the other items in the comparison group \n",
    "            similar_metric = similar(spend[1], compare[1])\n",
    "            if similar_metric > 0.6:\n",
    "                if compare not in processed:\n",
    "                    grouping.append(compare)\n",
    "                    processed.append(compare)  \n",
    "        if grouping: spending_groups.append(grouping) # only add groups that are non-empty\n",
    "    return spending_groups"
   ]
  },
  {
   "cell_type": "code",
   "execution_count": 49,
   "metadata": {
    "scrolled": false
   },
   "outputs": [],
   "source": [
    "untagged_groups = create_groups(untagged_list)\n",
    "tagged_groups = create_groups(tagged_list)"
   ]
  },
  {
   "cell_type": "code",
   "execution_count": 119,
   "metadata": {},
   "outputs": [
    {
     "data": {
      "text/plain": [
       "(183, 183)"
      ]
     },
     "execution_count": 119,
     "metadata": {},
     "output_type": "execute_result"
    }
   ],
   "source": [
    "total = 0\n",
    "for group in untagged_groups:\n",
    "    group_items = len(group)\n",
    "    total += group_items\n",
    "total, len(untagged_groups)"
   ]
  },
  {
   "cell_type": "code",
   "execution_count": 50,
   "metadata": {},
   "outputs": [
    {
     "data": {
      "text/plain": [
       "71"
      ]
     },
     "execution_count": 50,
     "metadata": {},
     "output_type": "execute_result"
    }
   ],
   "source": [
    "len(untagged_groups)"
   ]
  },
  {
   "cell_type": "code",
   "execution_count": 54,
   "metadata": {},
   "outputs": [
    {
     "data": {
      "text/plain": [
       "(236, 236, 72)"
      ]
     },
     "execution_count": 54,
     "metadata": {},
     "output_type": "execute_result"
    }
   ],
   "source": [
    "total = 0\n",
    "for group in tagged_groups:\n",
    "    group_items = len(group)\n",
    "    total += group_items\n",
    "total, len(tagged_list), len(tagged_groups)"
   ]
  },
  {
   "cell_type": "code",
   "execution_count": 116,
   "metadata": {},
   "outputs": [
    {
     "data": {
      "text/plain": [
       "183"
      ]
     },
     "execution_count": 116,
     "metadata": {},
     "output_type": "execute_result"
    }
   ],
   "source": [
    "len(untagged_list)"
   ]
  },
  {
   "cell_type": "code",
   "execution_count": 35,
   "metadata": {},
   "outputs": [
    {
     "data": {
      "text/plain": [
       "(419, 183, 236)"
      ]
     },
     "execution_count": 35,
     "metadata": {},
     "output_type": "execute_result"
    }
   ],
   "source": [
    "len(all_spend_with_tags), len(untagged_list), len(tagged_list)"
   ]
  },
  {
   "cell_type": "code",
   "execution_count": 36,
   "metadata": {},
   "outputs": [
    {
     "name": "stdout",
     "output_type": "stream",
     "text": [
      "Stored 'tagged_groups' (list)\n"
     ]
    }
   ],
   "source": [
    "%store tagged_groups"
   ]
  },
  {
   "cell_type": "code",
   "execution_count": 37,
   "metadata": {},
   "outputs": [
    {
     "name": "stdout",
     "output_type": "stream",
     "text": [
      "Stored 'untagged_groups' (list)\n"
     ]
    }
   ],
   "source": [
    "%store untagged_groups"
   ]
  },
  {
   "cell_type": "markdown",
   "metadata": {},
   "source": [
    "# let's try to infer tags based on old tag groups"
   ]
  },
  {
   "cell_type": "code",
   "execution_count": 38,
   "metadata": {},
   "outputs": [],
   "source": [
    "%store -r"
   ]
  },
  {
   "cell_type": "code",
   "execution_count": 55,
   "metadata": {},
   "outputs": [
    {
     "data": {
      "text/plain": [
       "[[['2019-02-23', 'MOSLER A C G       FLIGHT', '600.00', 'untagged']],\n",
       " [['2019-02-25', 'BREAD AND BUTTER   LONDON', '-35.35', 'untagged'],\n",
       "  ['2018-10-19', 'BROADWAY HAIR LONDON', ' 20.00', 'untagged']],\n",
       " [['2019-02-25', 'WWW.RMG.CO.UK      WWW', '-21.35', 'untagged']],\n",
       " [['2019-02-27',\n",
       "   'ADVICE CONFIRMS    RBS27029HE5A9S74   ALFRED P SLOAN FDN',\n",
       "   '313.40',\n",
       "   'untagged']],\n",
       " [['2019-03-09',\n",
       "   'CASH SAINSBY MAR09 112-118 King@19:32',\n",
       "   '-160.00',\n",
       "   'untagged']],\n",
       " [['2018-10-29', 'PAYMENT RECEIVED - THANK YOU', ' -190.70', 'untagged'],\n",
       "  ['2018-10-16', 'PAYMENT RECEIVED - THANK YOU', ' -232.68', 'untagged'],\n",
       "  ['2019-01-10', 'PAYMENT RECEIVED - THANK YOU', ' -100.00', 'untagged'],\n",
       "  ['2019-01-12', 'PAYMENT RECEIVED - THANK YOU', ' -15.00', 'untagged'],\n",
       "  ['2018-12-18', 'PAYMENT RECEIVED - THANK YOU', ' -119.00', 'untagged'],\n",
       "  ['2019-01-08', 'PAYMENT RECEIVED - THANK YOU', ' -40.00', 'untagged'],\n",
       "  ['2019-01-18', 'PAYMENT RECEIVED - THANK YOU', ' -65.00', 'untagged'],\n",
       "  ['2019-01-05', 'PAYMENT RECEIVED - THANK YOU', ' -300.00', 'untagged'],\n",
       "  ['2018-10-21', 'PAYMENT RECEIVED - THANK YOU', ' -124.49', 'untagged'],\n",
       "  ['2018-11-23', 'PAYMENT RECEIVED - THANK YOU', ' -331.00', 'untagged'],\n",
       "  ['2018-11-03', 'PAYMENT RECEIVED - THANK YOU', ' -54.77', 'untagged'],\n",
       "  ['2019-01-03', 'PAYMENT RECEIVED - THANK YOU', ' -350.00', 'untagged'],\n",
       "  ['2019-01-07', 'PAYMENT RECEIVED - THANK YOU', ' -45.00', 'untagged'],\n",
       "  ['2018-12-09', 'PAYMENT RECEIVED - THANK YOU', ' -136.04', 'untagged'],\n",
       "  ['2018-11-06', 'PAYMENT RECEIVED - THANK YOU', ' -467.57', 'untagged'],\n",
       "  ['2018-12-17', 'PAYMENT RECEIVED - THANK YOU', ' -393.17', 'untagged'],\n",
       "  ['2018-10-24', 'PAYMENT RECEIVED - THANK YOU', ' -258.07', 'untagged'],\n",
       "  ['2018-12-16', 'PAYMENT RECEIVED - THANK YOU', ' -99.82', 'untagged'],\n",
       "  ['2019-01-14', 'PAYMENT RECEIVED - THANK YOU', ' -900.00', 'untagged'],\n",
       "  ['2019-01-14', 'PAYMENT RECEIVED - THANK YOU', ' -500.00', 'untagged'],\n",
       "  ['2019-01-15', 'PAYMENT RECEIVED - THANK YOU', ' -500.00', 'untagged'],\n",
       "  ['2018-10-14', 'PAYMENT RECEIVED - THANK YOU', ' -50.00', 'untagged'],\n",
       "  ['2019-01-06', 'PAYMENT RECEIVED - THANK YOU', ' -200.00', 'untagged'],\n",
       "  ['2019-01-10', 'PAYMENT RECEIVED - THANK YOU', ' -20.00', 'untagged']],\n",
       " [['2018-11-04', 'FRACTURE LLC 0379 GAINESVILLE', ' 145.69', 'untagged']],\n",
       " [['2018-10-27', 'ICELAND - HOXTON-SHORED LONDON', ' 4.00', 'untagged']],\n",
       " [['2018-10-13', 'IZ *ROUTES COFFEE LIMIT WINCHESTER', ' 6.70', 'untagged']],\n",
       " [['2018-10-16', 'WELLCOME COLLECTION LONDON', ' 2.90', 'untagged'],\n",
       "  ['2018-10-15', 'VERIFONE TAXI SOLUTIONS LONDON', ' 10.12', 'untagged']],\n",
       " [['2018-10-15', 'CO-OP GREAT EASTERN STR SHOREDITCH', ' 3.35', 'untagged']],\n",
       " [['2018-10-15', 'DINER SPITALFIELDS LONDON', ' 15.00', 'untagged']],\n",
       " [['2018-10-18', 'ITUNES.COM/BILL HOLLYHILL', ' 8.99', 'untagged']],\n",
       " [['2018-10-15', 'ITSU LONDON', ' 12.34', 'untagged']],\n",
       " [['2018-10-14', 'AMAZON.CO.UK AMAZON.CO.UK', ' 6.30', 'untagged']],\n",
       " [['2018-10-13', 'MARKS & SPENCER DALST LONDON', ' 21.47', 'untagged']],\n",
       " [['2018-12-20', 'TFL TRAVEL CHARGE TFL.GOV.UK/CP', ' 3.00', 'untagged'],\n",
       "  ['2018-10-20', 'TFL TRAVEL CHARGE TFL.GOV.UK/CP', ' 3.00', 'untagged'],\n",
       "  ['2018-10-26', 'TFL TRAVEL CHARGE TFL.GOV.UK/CP', ' 3.00', 'untagged'],\n",
       "  ['2018-10-14', 'TFL TRAVEL CHARGE TFL.GOV.UK/CP', ' 3.00', 'untagged'],\n",
       "  ['2018-10-13', 'TFL TRAVEL CHARGE TFL.GOV.UK/CP', ' 6.00', 'untagged']],\n",
       " [['2018-12-16', 'SBB CFF FFS Bern', ' 200.73', 'untagged'],\n",
       "  ['2018-12-21', 'SBB CFF FFS Bern', ' -83.95', 'untagged']],\n",
       " [['2018-12-20', 'BA.COM UK WEST DRAYTON', ' 115.94', 'untagged'],\n",
       "  ['2018-12-20', 'BA.COM UK WEST DRAYTON', ' 102.94', 'untagged']],\n",
       " [['2018-10-19', 'PRET A MANGER-CITY ROAD LONDON', ' 6.58', 'untagged'],\n",
       "  ['2018-10-17', 'PRET A MANGER-CITY ROAD LONDON', ' 5.69', 'untagged']],\n",
       " [['2018-10-18', 'SUCHEF - EPOS 4 LONDON', ' 4.95', 'untagged']],\n",
       " [['2018-10-20', 'AMZN MKTP UK*MT85T1AE4 800-279-6620', ' 7.50', 'untagged']],\n",
       " [['2018-12-13', 'GITHUB SAN FRANCISCO', ' 5.77', 'untagged'],\n",
       "  ['2018-10-13', 'GITHUB GITHUB SAN FRANCISCO', ' 5.48', 'untagged']],\n",
       " [['2018-12-16', 'Booking-Corner (M-Soft Lens', ' 159.60', 'untagged']],\n",
       " [['2018-10-16', 'BLACKWELL LTD WELLCOME LONDON', ' 27.00', 'untagged']],\n",
       " [['2018-10-13', 'THE CHOCOLATE TASTING C ROYSTON', ' 21.04', 'untagged']],\n",
       " [['2018-10-19', 'CMT UK LTD - LICENSED T LONDON', ' 15.40', 'untagged']],\n",
       " [['2018-12-21', 'GETT GETT UNITED KINGDOM', ' 31.45', 'untagged']],\n",
       " [['2018-10-16', 'POD FOOD LONDON', ' 5.25', 'untagged']],\n",
       " [['2018-10-12', \"DUTY FREE MTL INT'L DUT ST-LAURENT\", ' 57.76', 'untagged']]]"
      ]
     },
     "execution_count": 55,
     "metadata": {},
     "output_type": "execute_result"
    }
   ],
   "source": [
    "untagged_groups[-30:]"
   ]
  },
  {
   "cell_type": "code",
   "execution_count": 40,
   "metadata": {},
   "outputs": [
    {
     "data": {
      "text/plain": [
       "236"
      ]
     },
     "execution_count": 40,
     "metadata": {},
     "output_type": "execute_result"
    }
   ],
   "source": [
    "len(tagged_list)"
   ]
  },
  {
   "cell_type": "code",
   "execution_count": 58,
   "metadata": {},
   "outputs": [],
   "source": [
    "from collections import defaultdict"
   ]
  },
  {
   "cell_type": "code",
   "execution_count": 67,
   "metadata": {},
   "outputs": [],
   "source": [
    "tag_suggestions = defaultdict(set) # use set so that we only generate unique items in the suggestions. \n",
    "for spend in untagged_list:\n",
    "    for tagged_spend in tagged_list:\n",
    "        similar_metric = similar(spend[1], tagged_spend[1])\n",
    "        if similar_metric > 0.6:\n",
    "            tag_suggestions[tuple(spend)].add(tagged_spend[3])"
   ]
  },
  {
   "cell_type": "markdown",
   "metadata": {},
   "source": [
    "# We can now generate suggestions for groups of untagged items "
   ]
  },
  {
   "cell_type": "code",
   "execution_count": 71,
   "metadata": {},
   "outputs": [
    {
     "name": "stdout",
     "output_type": "stream",
     "text": [
      "['2018-12-18', '404758 85579694    INTERNAL TRANSFER', '130.00', 'untagged'] set()\n",
      "['2018-12-22', '404758 85579694    INTERNAL TRANSFER', '4500.00', 'untagged'] set()\n",
      "['2019-01-21', '404772 12471736    INTERNAL TRANSFER', '624.00', 'untagged'] set()\n",
      "['2019-02-19', '404758 85579694    INTERNAL TRANSFER', '300.00', 'untagged'] set()\n",
      "['2019-02-22', '404758 85579694    INTERNAL TRANSFER', '160.00', 'untagged'] set()\n",
      "\n",
      "['2018-12-18', 'AMERICAN EXPRESS   WWW.AMERICANE', '-393.17', 'untagged'] set()\n",
      "['2019-01-04', 'AMERICAN EXPRESS   WWW.AMERICANE', '-350.00', 'untagged'] set()\n",
      "['2019-01-07', 'AMERICAN EXPRESS   WWW.AMERICANE', '-300.00', 'untagged'] set()\n",
      "['2019-01-15', 'AMERICAN EXPRESS   WWW.AMERICANE', '-500.00', 'untagged'] set()\n",
      "['2019-01-15', 'AMERICAN EXPRESS   WWW.AMERICANE', '-900.00', 'untagged'] set()\n",
      "['2019-01-16', 'AMERICAN EXPRESS   WWW.AMERICANE', '-500.00', 'untagged'] set()\n",
      "['2019-01-24', 'AMERICAN EXPRESS   WWW.AMERICANE', '-279.06', 'untagged'] set()\n",
      "['2019-02-12', 'AMERICAN EXPRESS   WWW.AMERICANE', '-311.78', 'untagged'] set()\n",
      "['2019-02-20', 'AMERICAN EXPRESS   WWW.AMERICANE', '-424.02', 'untagged'] set()\n",
      "['2019-03-04', 'AMERICAN EXPRESS   WWW.AMERICANE', '-304.13', 'untagged'] set()\n",
      "\n",
      "['2018-12-19', 'WWW.AMERICANEXPRES BRIGHTON', '-119.00', 'untagged'] set()\n",
      "['2019-01-07', 'WWW.AMERICANEXPRES BRIGHTON', '-200.00', 'untagged'] set()\n",
      "['2019-01-08', 'WWW.AMERICANEXPRES BRIGHTON', '-45.00', 'untagged'] set()\n",
      "['2019-01-09', 'WWW.AMERICANEXPRES BRIGHTON', '-40.00', 'untagged'] set()\n",
      "['2019-01-11', 'WWW.AMERICANEXPRES BRIGHTON', '-100.00', 'untagged'] set()\n",
      "['2019-01-11', 'WWW.AMERICANEXPRES BRIGHTON', '-20.00', 'untagged'] set()\n",
      "['2019-01-14', 'WWW.AMERICANEXPRES BRIGHTON', '-15.00', 'untagged'] set()\n",
      "['2019-01-14', 'WWW.AMERICANEXPRES BRIGHTON', '-65.00', 'untagged'] set()\n",
      "['2019-01-21', 'WWW.AMERICANEXPRES BRIGHTON', '-200.00', 'untagged'] set()\n",
      "['2019-01-21', 'WWW.AMERICANEXPRES BRIGHTON', '-65.00', 'untagged'] set()\n",
      "['2019-02-11', 'WWW.AMERICANEXPRES BRIGHTON', '-250.00', 'untagged'] set()\n",
      "['2019-02-25', 'WWW.AMERICANEXPRES BRIGHTON', '-65.14', 'untagged'] set()\n",
      "['2019-03-11', 'WWW.AMERICANEXPRES BRIGHTON', '-144.16', 'untagged'] set()\n",
      "\n",
      "['2018-12-20', 'LANTANA SHOREDITCH LONDON  EC1Y', '-4.00', 'untagged'] {'coffee'}\n",
      "['2019-02-18', 'THE STABLE WHITECH LONDON  E1', '-33.50', 'untagged'] {'climbing', 'coffee'}\n",
      "['2018-10-19', 'LANTANA LONDON', ' 3.00', 'untagged'] {'coffee', 'household '}\n",
      "['2018-10-17', 'LANTANA LONDON', ' 2.70', 'untagged'] {'coffee', 'household '}\n",
      "['2018-11-13', 'LANTANA LONDON', ' 3.00', 'untagged'] {'coffee', 'household '}\n",
      "['2019-01-10', 'LANTANA LONDON', ' 3.00', 'untagged'] {'coffee', 'household '}\n",
      "['2018-10-15', 'LANTANA LONDON', ' 3.00', 'untagged'] {'coffee', 'household '}\n",
      "\n",
      "['2018-12-20', 'PRET A MANGER      OLIVERS YARD', '-7.54', 'untagged'] {'travel'}\n",
      "\n",
      "['2018-12-21', 'KINGSLAND PHARMACY LONDON', '-17.74', 'untagged'] {'food', 'coffee'}\n",
      "['2018-12-20', 'POST OFFICE KINGSLAND LONDON', ' 8.04', 'untagged'] set()\n",
      "['2018-10-13', 'IZ *KINGSLAND ROAD WORK LONDON', ' 10.80', 'untagged'] {'food', 'coffee'}\n",
      "['2018-12-20', 'IZ *KINGSLAND ROAD WORK LONDON', ' 8.10', 'untagged'] {'food', 'coffee'}\n",
      "\n",
      "['2018-12-21', 'SAGE PUBLICATIONS', '4938.52', 'untagged'] set()\n",
      "['2019-01-23', 'SAGE PUBLICATIONS', '4225.04', 'untagged'] set()\n",
      "['2019-02-22', 'SAGE PUBLICATIONS', '4938.52', 'untagged'] set()\n",
      "\n",
      "['2018-12-21', 'TRANSFER 85579694', '-4794.22', 'untagged'] set()\n",
      "['2019-01-21', 'TRANSFER 85579694', '-85.01', 'untagged'] set()\n",
      "['2019-02-21', 'TRANSFER 85579694', '-37.26', 'untagged'] set()\n",
      "\n",
      "['2019-01-02', 'OVO ENERGY', '-151.00', 'untagged'] set()\n",
      "['2019-02-01', 'OVO ENERGY', '-151.00', 'untagged'] set()\n",
      "['2019-03-01', 'OVO ENERGY', '-120.00', 'untagged'] set()\n",
      "\n",
      "['2019-01-21', 'COSTA COFFEE       LONDON', '-3.65', 'untagged'] {'coffee', 'travel'}\n",
      "['2019-02-07', 'COSTCUTTER         LONDON', '-10.83', 'untagged'] {'coffee', 'travel'}\n",
      "['2019-02-18', 'LA BOUCHE          LONDON  E8 4', '-14.95', 'untagged'] {'coffee', 'travel'}\n",
      "['2019-02-21', 'COSTCUTTER         LONDON', '-12.54', 'untagged'] {'coffee', 'travel'}\n",
      "['2019-03-01', 'COSTCUTTER         LONDON', '-8.28', 'untagged'] {'coffee', 'travel'}\n",
      "\n",
      "['2019-01-21', 'GERMAN DELI        LONDON  E9 5', '-23.30', 'untagged'] {'food', 'coffee', 'travel'}\n",
      "\n",
      "['2019-01-21', 'HMRC TAX CR CUMBLD 1248669189K', '-623.80', 'untagged'] set()\n",
      "\n",
      "['2019-01-21', 'MARKET CAFE LONDON LONDON', '-33.86', 'untagged'] set()\n",
      "['2019-03-11', 'THE BRIDGE (LONDON LONDON', '-17.00', 'untagged'] set()\n",
      "['2019-03-11', 'THE BRIDGE (LONDON LONDON', '-17.50', 'untagged'] set()\n",
      "\n",
      "['2019-01-21', 'SINCLAIR DRUMMOND  07487880790', '-18.00', 'untagged'] set()\n",
      "\n",
      "['2019-01-21', 'THE SNOOTY FOX     HIGHBURY', '-16.94', 'untagged'] set()\n",
      "\n",
      "['2019-01-21', 'VIRGIN PURE', '-11.96', 'untagged'] {'household'}\n",
      "['2019-02-28', 'VIRGIN PURE', '-11.96', 'untagged'] {'household'}\n",
      "\n",
      "['2019-01-23', 'CASH 0018337018    DUBLIN AIRPORT     DUBLIN', '-56.65', 'untagged'] set()\n",
      "\n",
      "['2019-01-23', 'CHARGE             NON-STERLING       CASH FEE', '-1.75', 'untagged'] set()\n",
      "['2019-01-25', 'CHARGE             NON-STERLING       CASH FEE', '-1.75', 'untagged'] set()\n",
      "\n",
      "['2019-01-23', \"INT'L 0018337014   BERNARD SHAW       DUBLIN 2           EUR 22.90 @ 1.1325  Visa Rate\", '-20.22', 'untagged'] {'travel'}\n",
      "['2019-01-23', \"INT'L 0018337015   Cassidys           Dublin 2           EUR 10.40 @ 1.1316  Visa Rate\", '-9.19', 'untagged'] {'travel'}\n",
      "['2019-01-23', \"INT'L 0018337016   Cassidys           Dublin 2           EUR 10.40 @ 1.1316  Visa Rate\", '-9.19', 'untagged'] {'travel'}\n",
      "['2019-01-23', \"INT'L 0018337017   AWESOME WALLS CLIM DBLIN 11           EUR 13.00 @ 1.1324  Visa Rate\", '-11.48', 'untagged'] {'travel'}\n",
      "['2019-01-25', 'CASH 0029823262    ULSTER BANK   /    DUB HARCOURT       EUR 60.00 @ 1.1459  Visa Rate', '-52.36', 'untagged'] set()\n",
      "['2019-01-25', \"INT'L 0029823260   THE LOOP T1        CO DUBLIN          EUR 20.50 @ 1.1458  Visa Rate\", '-17.89', 'untagged'] set()\n",
      "['2019-01-25', \"INT'L 0029823261   THE LOOP T1        CO DUBLIN          EUR 70.00 @ 1.1458  Visa Rate\", '-61.09', 'untagged'] {'travel'}\n",
      "['2019-01-28', \"INT'L 0036556022   57 THE HEAD LINE   DUBLIN CITY        EUR 5.50 @ 1.1506   Visa Rate\", '-4.78', 'untagged'] set()\n",
      "\n",
      "['2019-01-23', 'KINGFISHER WHITE   KWSP3083', '-177.08', 'untagged'] set()\n",
      "\n",
      "['2019-01-25', 'Non-Sterling       Transaction Fee', '-0.49', 'untagged'] {'travel'}\n",
      "['2019-01-25', 'Non-Sterling       Transaction Fee', '-1.43', 'untagged'] {'travel'}\n",
      "['2019-01-25', 'Non-Sterling       Transaction Fee', '-1.67', 'untagged'] {'travel'}\n",
      "\n",
      "['2019-01-28', 'H3G', '-15.35', 'untagged'] {'phone'}\n",
      "['2019-02-28', 'H3G', '-185.84', 'untagged'] {'phone'}\n",
      "\n",
      "['2019-01-28', 'INDIGO AT OSM      LONDON  E3', '-6.95', 'untagged'] {'travel'}\n",
      "['2019-03-04', 'INDIGO AT OSM      LONDON  E3', '-6.95', 'untagged'] {'travel'}\n",
      "\n",
      "['2019-01-28', 'THE BARREL BOULANG LONDON', '-19.70', 'untagged'] set()\n",
      "\n",
      "['2019-02-01', 'CBS 17864235', '-1264.32', 'untagged'] {'household '}\n",
      "['2019-03-01', 'CBS 17864235', '-1264.32', 'untagged'] {'household '}\n",
      "\n",
      "['2019-02-01', 'OPEN RIGHTS GROUP  MULVA 136', '-5.00', 'untagged'] {'geek'}\n",
      "\n",
      "['2019-02-01', 'TAXASSIST ACCOUNTS', '-39.50', 'untagged'] {'household '}\n",
      "['2019-03-01', 'TAXASSIST ACCOUNTS', '-39.50', 'untagged'] {'household '}\n",
      "\n",
      "['2019-02-01', 'THAMES WATER', '-41.44', 'untagged'] {'household '}\n",
      "['2019-03-01', 'THAMES WATER', '-41.44', 'untagged'] {'household '}\n",
      "\n",
      "['2019-02-01', 'TV LICENCE MBP', '-12.83', 'untagged'] {'household '}\n",
      "['2019-03-01', 'TV LICENCE MBP', '-12.83', 'untagged'] {'household '}\n",
      "\n",
      "['2019-02-04', 'BMC', '-33.95', 'untagged'] set()\n",
      "\n",
      "['2019-02-04', 'PC/GROVE and DEAN', '-27.14', 'untagged'] {'household '}\n",
      "['2019-03-04', 'PC/GROVE and DEAN', '-27.14', 'untagged'] {'household '}\n",
      "\n",
      "['2019-02-04', 'RTB SERVICE CHARGE', '-179.39', 'untagged'] {'household '}\n",
      "['2019-03-04', 'RTB SERVICE CHARGE', '-179.39', 'untagged'] {'household '}\n",
      "\n",
      "['2019-02-06', 'AVIVA HEALTH', '-172.22', 'untagged'] {'household '}\n",
      "['2019-02-11', 'AVIVA LIFE', '-20.73', 'untagged'] {'household '}\n",
      "['2019-02-11', 'AVIVA LIFE', '-7.67', 'untagged'] {'household '}\n",
      "['2019-03-06', 'AVIVA HEALTH', '-172.22', 'untagged'] {'household '}\n",
      "['2019-03-11', 'AVIVA LIFE', '-20.73', 'untagged'] {'household '}\n",
      "['2019-03-11', 'AVIVA LIFE', '-7.67', 'untagged'] {'household '}\n",
      "\n",
      "['2019-02-06', 'GIOIA MOSLER       MAINTENENCE', '-400.00', 'untagged'] set()\n",
      "['2019-02-22', 'GIOIA MOSLER       MAINTENENCE', '-900.00', 'untagged'] set()\n",
      "['2019-03-08', 'GIOIA MOSLER       MAINTENENCE', '-100.00', 'untagged'] set()\n",
      "\n",
      "['2019-02-11', 'REVOLUT*7426*      REVOLUT.COM', '-60.00', 'untagged'] set()\n",
      "['2019-02-25', 'REVOLUT*           REVOLUT.COM', '-660.00', 'untagged'] set()\n",
      "['2019-02-28', 'REVOLUT*           REVOLUT.COM', '-320.00', 'untagged'] set()\n",
      "\n",
      "['2019-02-12', 'BARCLAYS PRTNR FIN', '-48.95', 'untagged'] {'phone'}\n",
      "\n",
      "['2019-02-12', 'BT GROUP PLC', '-69.49', 'untagged'] {'household '}\n",
      "\n",
      "['2019-02-13', 'CASH NOTEMAC FEB13 Melliferu Ka@23:30', '-60.00', 'untagged'] {'household '}\n",
      "['2019-02-20', 'CASH NOTEMAC FEB20 Melliferu Ka@22:38', '-40.00', 'untagged'] {'household '}\n",
      "['2019-03-03', 'CASH NOTEMAC MAR03 Melliferu Ka@10:55', '-40.00', 'untagged'] {'household '}\n",
      "['2019-03-06', 'CASH NOTEMAC MAR06 Melliferu Ka@21:55', '-20.00', 'untagged'] {'household '}\n",
      "\n",
      "['2019-02-20', 'CYCLEHOOP RENTALS  LONDON', '-20.00', 'untagged'] {'lunch'}\n",
      "['2019-03-04', 'CYCLEHOOP RENTALS  LONDON', '-2.50', 'untagged'] {'lunch'}\n",
      "['2018-10-20', 'CO-OP OLD STREET LONDON', ' 1.30', 'untagged'] {'lunch'}\n",
      "\n",
      "['2019-02-21', 'BETTER EQUIPPED    NANTWICH', '-26.96', 'untagged'] set()\n",
      "\n",
      "['2019-02-22', 'UNA BELLA VITA LTD LONDON', '-93.83', 'untagged'] {'food'}\n",
      "\n",
      "['2019-02-23', 'MOSLER A C G       FLIGHT', '600.00', 'untagged'] set()\n",
      "\n",
      "['2019-02-25', 'BREAD AND BUTTER   LONDON', '-35.35', 'untagged'] {'household '}\n",
      "['2018-10-19', 'BROADWAY HAIR LONDON', ' 20.00', 'untagged'] {'lunch', 'household '}\n",
      "\n",
      "['2019-02-25', 'WWW.RMG.CO.UK      WWW', '-21.35', 'untagged'] set()\n",
      "\n",
      "['2019-02-27', 'ADVICE CONFIRMS    RBS27029HE5A9S74   ALFRED P SLOAN FDN', '313.40', 'untagged'] set()\n",
      "\n",
      "['2019-03-09', 'CASH SAINSBY MAR09 112-118 King@19:32', '-160.00', 'untagged'] set()\n",
      "\n",
      "['2018-10-29', 'PAYMENT RECEIVED - THANK YOU', ' -190.70', 'untagged'] set()\n",
      "['2018-10-16', 'PAYMENT RECEIVED - THANK YOU', ' -232.68', 'untagged'] set()\n",
      "['2019-01-10', 'PAYMENT RECEIVED - THANK YOU', ' -100.00', 'untagged'] set()\n",
      "['2019-01-12', 'PAYMENT RECEIVED - THANK YOU', ' -15.00', 'untagged'] set()\n",
      "['2018-12-18', 'PAYMENT RECEIVED - THANK YOU', ' -119.00', 'untagged'] set()\n",
      "['2019-01-08', 'PAYMENT RECEIVED - THANK YOU', ' -40.00', 'untagged'] set()\n",
      "['2019-01-18', 'PAYMENT RECEIVED - THANK YOU', ' -65.00', 'untagged'] set()\n",
      "['2019-01-05', 'PAYMENT RECEIVED - THANK YOU', ' -300.00', 'untagged'] set()\n",
      "['2018-10-21', 'PAYMENT RECEIVED - THANK YOU', ' -124.49', 'untagged'] set()\n",
      "['2018-11-23', 'PAYMENT RECEIVED - THANK YOU', ' -331.00', 'untagged'] set()\n",
      "['2018-11-03', 'PAYMENT RECEIVED - THANK YOU', ' -54.77', 'untagged'] set()\n",
      "['2019-01-03', 'PAYMENT RECEIVED - THANK YOU', ' -350.00', 'untagged'] set()\n",
      "['2019-01-07', 'PAYMENT RECEIVED - THANK YOU', ' -45.00', 'untagged'] set()\n",
      "['2018-12-09', 'PAYMENT RECEIVED - THANK YOU', ' -136.04', 'untagged'] set()\n",
      "['2018-11-06', 'PAYMENT RECEIVED - THANK YOU', ' -467.57', 'untagged'] set()\n",
      "['2018-12-17', 'PAYMENT RECEIVED - THANK YOU', ' -393.17', 'untagged'] set()\n",
      "['2018-10-24', 'PAYMENT RECEIVED - THANK YOU', ' -258.07', 'untagged'] set()\n",
      "['2018-12-16', 'PAYMENT RECEIVED - THANK YOU', ' -99.82', 'untagged'] set()\n",
      "['2019-01-14', 'PAYMENT RECEIVED - THANK YOU', ' -900.00', 'untagged'] set()\n",
      "['2019-01-14', 'PAYMENT RECEIVED - THANK YOU', ' -500.00', 'untagged'] set()\n",
      "['2019-01-15', 'PAYMENT RECEIVED - THANK YOU', ' -500.00', 'untagged'] set()\n",
      "['2018-10-14', 'PAYMENT RECEIVED - THANK YOU', ' -50.00', 'untagged'] set()\n",
      "['2019-01-06', 'PAYMENT RECEIVED - THANK YOU', ' -200.00', 'untagged'] set()\n",
      "['2019-01-10', 'PAYMENT RECEIVED - THANK YOU', ' -20.00', 'untagged'] set()\n",
      "\n",
      "['2018-11-04', 'FRACTURE LLC 0379 GAINESVILLE', ' 145.69', 'untagged'] set()\n",
      "\n",
      "['2018-10-27', 'ICELAND - HOXTON-SHORED LONDON', ' 4.00', 'untagged'] set()\n",
      "\n",
      "['2018-10-13', 'IZ *ROUTES COFFEE LIMIT WINCHESTER', ' 6.70', 'untagged'] set()\n",
      "\n",
      "['2018-10-16', 'WELLCOME COLLECTION LONDON', ' 2.90', 'untagged'] set()\n",
      "['2018-10-15', 'VERIFONE TAXI SOLUTIONS LONDON', ' 10.12', 'untagged'] set()\n",
      "\n",
      "['2018-10-15', 'CO-OP GREAT EASTERN STR SHOREDITCH', ' 3.35', 'untagged'] {'coffee'}\n",
      "\n",
      "['2018-10-15', 'DINER SPITALFIELDS LONDON', ' 15.00', 'untagged'] set()\n",
      "\n",
      "['2018-10-18', 'ITUNES.COM/BILL HOLLYHILL', ' 8.99', 'untagged'] {'geek', 'gifts', 'entertainment '}\n",
      "\n",
      "['2018-10-15', 'ITSU LONDON', ' 12.34', 'untagged'] {'household', 'coffee', 'lunch'}\n",
      "\n",
      "['2018-10-14', 'AMAZON.CO.UK AMAZON.CO.UK', ' 6.30', 'untagged'] {'gifts', 'kids'}\n",
      "\n",
      "['2018-10-13', 'MARKS & SPENCER DALST LONDON', ' 21.47', 'untagged'] set()\n",
      "\n",
      "['2018-12-20', 'TFL TRAVEL CHARGE TFL.GOV.UK/CP', ' 3.00', 'untagged'] {'travel ', 'travel'}\n",
      "['2018-10-20', 'TFL TRAVEL CHARGE TFL.GOV.UK/CP', ' 3.00', 'untagged'] {'travel ', 'travel'}\n",
      "['2018-10-26', 'TFL TRAVEL CHARGE TFL.GOV.UK/CP', ' 3.00', 'untagged'] {'travel ', 'travel'}\n",
      "['2018-10-14', 'TFL TRAVEL CHARGE TFL.GOV.UK/CP', ' 3.00', 'untagged'] {'travel ', 'travel'}\n",
      "['2018-10-13', 'TFL TRAVEL CHARGE TFL.GOV.UK/CP', ' 6.00', 'untagged'] {'travel ', 'travel'}\n",
      "\n",
      "['2018-12-16', 'SBB CFF FFS Bern', ' 200.73', 'untagged'] set()\n",
      "['2018-12-21', 'SBB CFF FFS Bern', ' -83.95', 'untagged'] set()\n",
      "\n",
      "['2018-12-20', 'BA.COM UK WEST DRAYTON', ' 115.94', 'untagged'] set()\n",
      "['2018-12-20', 'BA.COM UK WEST DRAYTON', ' 102.94', 'untagged'] set()\n",
      "\n",
      "['2018-10-19', 'PRET A MANGER-CITY ROAD LONDON', ' 6.58', 'untagged'] {'lunch', 'coffee', 'travel'}\n",
      "['2018-10-17', 'PRET A MANGER-CITY ROAD LONDON', ' 5.69', 'untagged'] {'lunch', 'coffee', 'travel'}\n",
      "\n",
      "['2018-10-18', 'SUCHEF - EPOS 4 LONDON', ' 4.95', 'untagged'] set()\n",
      "\n",
      "['2018-10-20', 'AMZN MKTP UK*MT85T1AE4 800-279-6620', ' 7.50', 'untagged'] {'gifts'}\n",
      "\n",
      "['2018-12-13', 'GITHUB SAN FRANCISCO', ' 5.77', 'untagged'] {'geek'}\n",
      "['2018-10-13', 'GITHUB GITHUB SAN FRANCISCO', ' 5.48', 'untagged'] {'geek'}\n",
      "\n",
      "['2018-12-16', 'Booking-Corner (M-Soft Lens', ' 159.60', 'untagged'] set()\n",
      "\n",
      "['2018-10-16', 'BLACKWELL LTD WELLCOME LONDON', ' 27.00', 'untagged'] set()\n",
      "\n",
      "['2018-10-13', 'THE CHOCOLATE TASTING C ROYSTON', ' 21.04', 'untagged'] {'food'}\n",
      "\n",
      "['2018-10-19', 'CMT UK LTD - LICENSED T LONDON', ' 15.40', 'untagged'] {'taxi'}\n",
      "\n",
      "['2018-12-21', 'GETT GETT UNITED KINGDOM', ' 31.45', 'untagged'] {'gifts', 'taxi'}\n",
      "\n",
      "['2018-10-16', 'POD FOOD LONDON', ' 5.25', 'untagged'] {'lunch', 'food', 'household'}\n",
      "\n",
      "['2018-10-12', \"DUTY FREE MTL INT'L DUT ST-LAURENT\", ' 57.76', 'untagged'] set()\n",
      "\n"
     ]
    }
   ],
   "source": [
    "for untagged_group in untagged_groups:\n",
    "    for spend in untagged_group:\n",
    "        print(spend, tag_suggestions[tuple(spend)])\n",
    "    print(\"\")"
   ]
  },
  {
   "cell_type": "code",
   "execution_count": null,
   "metadata": {},
   "outputs": [],
   "source": []
  }
 ],
 "metadata": {
  "kernelspec": {
   "display_name": "Python 3",
   "language": "python",
   "name": "python3"
  },
  "language_info": {
   "codemirror_mode": {
    "name": "ipython",
    "version": 3
   },
   "file_extension": ".py",
   "mimetype": "text/x-python",
   "name": "python",
   "nbconvert_exporter": "python",
   "pygments_lexer": "ipython3",
   "version": "3.7.1"
  },
  "toc": {
   "base_numbering": 1,
   "nav_menu": {},
   "number_sections": true,
   "sideBar": true,
   "skip_h1_title": false,
   "title_cell": "Table of Contents",
   "title_sidebar": "Contents",
   "toc_cell": false,
   "toc_position": {
    "height": "calc(100% - 180px)",
    "left": "10px",
    "top": "150px",
    "width": "214px"
   },
   "toc_section_display": true,
   "toc_window_display": true
  },
  "varInspector": {
   "cols": {
    "lenName": 16,
    "lenType": 16,
    "lenVar": 40
   },
   "kernels_config": {
    "python": {
     "delete_cmd_postfix": "",
     "delete_cmd_prefix": "del ",
     "library": "var_list.py",
     "varRefreshCmd": "print(var_dic_list())"
    },
    "r": {
     "delete_cmd_postfix": ") ",
     "delete_cmd_prefix": "rm(",
     "library": "var_list.r",
     "varRefreshCmd": "cat(var_dic_list()) "
    }
   },
   "types_to_exclude": [
    "module",
    "function",
    "builtin_function_or_method",
    "instance",
    "_Feature"
   ],
   "window_display": false
  }
 },
 "nbformat": 4,
 "nbformat_minor": 2
}

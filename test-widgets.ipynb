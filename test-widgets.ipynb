{
 "cells": [
  {
   "cell_type": "markdown",
   "metadata": {},
   "source": [
    "good tutorial\n",
    "https://medium.com/@jdchipox/how-to-interact-with-jupyter-33a98686f24e "
   ]
  },
  {
   "cell_type": "code",
   "execution_count": 5,
   "metadata": {},
   "outputs": [
    {
     "data": {
      "application/vnd.jupyter.widget-view+json": {
       "model_id": "dbc1b32461ef4e4a87028e0d76a31cb8",
       "version_major": 2,
       "version_minor": 0
      },
      "text/plain": [
       "interactive(children=(IntSlider(value=3, description='a', max=5, min=1), IntSlider(value=8, description='b', m…"
      ]
     },
     "metadata": {},
     "output_type": "display_data"
    }
   ],
   "source": [
    "from ipywidgets import interactive\n",
    "from IPython.display import display\n",
    "import ipywidgets as widgets\n",
    "\n",
    "# Define any function\n",
    "def f(a, b):\n",
    "    return a + b\n",
    "\n",
    "# Create sliders using interactive\n",
    "my_result = interactive(f, a=(1,5), b=(6,10))\n",
    "\n",
    "# You can also view this in a notebook without using display.\n",
    "display(my_result)"
   ]
  },
  {
   "cell_type": "code",
   "execution_count": 1,
   "metadata": {},
   "outputs": [],
   "source": [
    "%store -r"
   ]
  },
  {
   "cell_type": "code",
   "execution_count": 2,
   "metadata": {},
   "outputs": [
    {
     "data": {
      "text/plain": [
       "425"
      ]
     },
     "execution_count": 2,
     "metadata": {},
     "output_type": "execute_result"
    }
   ],
   "source": [
    "len(all_tagged_data)"
   ]
  },
  {
   "cell_type": "code",
   "execution_count": 3,
   "metadata": {},
   "outputs": [
    {
     "data": {
      "text/plain": [
       "[('2018-10-22', 'PRET A MANGERCITY ROAD LONDON', '6.43', 'lunch'),\n",
       " ('2018-10-22', \"SAINSBURY'S BROMLEYBY LONDON\", '186.37', 'food'),\n",
       " ('2018-10-23', 'TFL TRAVEL CHARGE TFL.GOV.UK/CP', '5.8', 'travel'),\n",
       " ('2018-10-24', '', '292', 'travel')]"
      ]
     },
     "execution_count": 3,
     "metadata": {},
     "output_type": "execute_result"
    }
   ],
   "source": [
    "all_tagged_data[0:4]"
   ]
  },
  {
   "cell_type": "code",
   "execution_count": 7,
   "metadata": {},
   "outputs": [],
   "source": [
    "import qgrid\n",
    "import pandas as pd"
   ]
  },
  {
   "cell_type": "code",
   "execution_count": 8,
   "metadata": {},
   "outputs": [],
   "source": [
    "data = np.array([['','Col1','Col2'],\n",
    "                ['Row1',1,2],\n",
    "                ['Row2',3,4]])"
   ]
  },
  {
   "cell_type": "code",
   "execution_count": 9,
   "metadata": {},
   "outputs": [],
   "source": [
    "df =pd.DataFrame(data=data[1:,1:],\n",
    "                  columns=data[0,1:])"
   ]
  },
  {
   "cell_type": "code",
   "execution_count": 10,
   "metadata": {},
   "outputs": [],
   "source": [
    "qgrid_widget = qgrid.show_grid(df, show_toolbar=True)"
   ]
  },
  {
   "cell_type": "code",
   "execution_count": 11,
   "metadata": {},
   "outputs": [
    {
     "data": {
      "application/vnd.jupyter.widget-view+json": {
       "model_id": "ba8eaeaf05f541ac8c26d1b6996a51f7",
       "version_major": 2,
       "version_minor": 0
      },
      "text/plain": [
       "QgridWidget(grid_options={'fullWidthRows': True, 'syncColumnCellResize': True, 'forceFitColumns': True, 'defau…"
      ]
     },
     "metadata": {},
     "output_type": "display_data"
    }
   ],
   "source": [
    "qgrid_widget"
   ]
  },
  {
   "cell_type": "code",
   "execution_count": 17,
   "metadata": {
    "code_folding": []
   },
   "outputs": [
    {
     "data": {
      "application/vnd.jupyter.widget-view+json": {
       "model_id": "2b4855a7fcc74b2cad04ce0e51e8de18",
       "version_major": 2,
       "version_minor": 0
      },
      "text/plain": [
       "Dropdown(description='Task:', options=('Addition', 'Multiplication', 'Subtraction'), value='Addition')"
      ]
     },
     "metadata": {},
     "output_type": "display_data"
    },
    {
     "name": "stdout",
     "output_type": "stream",
     "text": [
      "changed to Multiplication\n",
      "changed to Addition\n",
      "changed to Subtraction\n",
      "changed to Multiplication\n",
      "changed to Subtraction\n",
      "changed to Multiplication\n",
      "changed to Addition\n",
      "changed to Subtraction\n",
      "changed to Addition\n",
      "changed to Multiplication\n",
      "changed to Subtraction\n",
      "changed to Addition\n",
      "changed to Multiplication\n"
     ]
    }
   ],
   "source": [
    "w = widgets.Dropdown(\n",
    "    options=['Addition', 'Multiplication', 'Subtraction'],\n",
    "    value='Addition',\n",
    "    description='Task:',\n",
    ")\n",
    "\n",
    "def on_change(change):\n",
    "    if change['type'] == 'change' and change['name'] == 'value':\n",
    "        print (\"changed to %s\" % change['new'])\n",
    "        w.description='Updated'\n",
    "\n",
    "w.observe(on_change)\n",
    "\n",
    "display(w)"
   ]
  },
  {
   "cell_type": "code",
   "execution_count": 24,
   "metadata": {},
   "outputs": [
    {
     "data": {
      "application/vnd.jupyter.widget-view+json": {
       "model_id": "81ab4401f8224438a7682ae85c97b905",
       "version_major": 2,
       "version_minor": 0
      },
      "text/plain": [
       "Select(description='Task:', index=1, options=('choose', 'Addition', 'Multiplication', 'Subtraction'), value='A…"
      ]
     },
     "metadata": {},
     "output_type": "display_data"
    },
    {
     "data": {
      "application/vnd.jupyter.widget-view+json": {
       "model_id": "04ffee80eb2d4916898ed39e19535d17",
       "version_major": 2,
       "version_minor": 0
      },
      "text/plain": [
       "Text(value='Hello World', description='String:', placeholder='Type something')"
      ]
     },
     "metadata": {},
     "output_type": "display_data"
    }
   ],
   "source": [
    "w = widgets.Select(\n",
    "    options=['choose','Addition', 'Multiplication', 'Subtraction'],\n",
    "    value='Addition',\n",
    "    description='Task:',\n",
    ")\n",
    "\n",
    "def on_change(change):\n",
    "    if change['type'] == 'change' and change['name'] == 'value':\n",
    "        info.value = \"changed to %s\" % change['new']\n",
    "        w.description='Updated'\n",
    "\n",
    "w.observe(on_change)\n",
    "\n",
    "info = widgets.Text(\n",
    "    value='Hello World',\n",
    "    placeholder='Type something',\n",
    "    description='String:',\n",
    "    disabled=False\n",
    ")\n",
    "\n",
    "display(w)\n",
    "display(info)"
   ]
  },
  {
   "cell_type": "code",
   "execution_count": 3,
   "metadata": {},
   "outputs": [
    {
     "data": {
      "application/vnd.jupyter.widget-view+json": {
       "model_id": "88695276f9d943959c94748a92a3c04d",
       "version_major": 2,
       "version_minor": 0
      },
      "text/plain": [
       "ToggleButtons(description='Speed:', options=('Slow', 'Regular', 'Fast'), tooltips=('Description of slow', 'Des…"
      ]
     },
     "metadata": {},
     "output_type": "display_data"
    },
    {
     "data": {
      "application/vnd.jupyter.widget-view+json": {
       "model_id": "202c76c7dc6149bc8b1f6a8a47ad55b1",
       "version_major": 2,
       "version_minor": 0
      },
      "text/plain": [
       "Text(value='Hello World', description='String:', placeholder='Type something')"
      ]
     },
     "metadata": {},
     "output_type": "display_data"
    },
    {
     "name": "stdout",
     "output_type": "stream",
     "text": [
      "changed to Regular\n",
      "changed to Fast\n",
      "changed to Slow\n",
      "changed to Regular\n",
      "changed to Fast\n",
      "changed to Slow\n",
      "changed to Regular\n",
      "changed to Slow\n",
      "changed to Regular\n",
      "changed to Fast\n",
      "changed to Regular\n",
      "changed to Slow\n",
      "changed to Regular\n",
      "changed to Fast\n",
      "changed to Regular\n",
      "changed to Slow\n",
      "changed to Regular\n",
      "changed to Fast\n"
     ]
    }
   ],
   "source": [
    "w = widgets.ToggleButtons(\n",
    "    options=['Slow', 'Regular', 'Fast'],\n",
    "    description='Speed:',\n",
    "    disabled=False,\n",
    "    button_style='', # 'success', 'info', 'warning', 'danger' or ''\n",
    "    tooltips=['Description of slow', 'Description of regular', 'Description of fast'],\n",
    "#     icons=['check'] * 3\n",
    ")\n",
    "\n",
    "def on_change(change):\n",
    "#     if change['type'] == 'change' and change['name'] == 'value':\n",
    "    if change['name'] == 'value':\n",
    "        info.value = \"changed to %s\" % change['new']\n",
    "        print(\"changed to %s\" % change['new'])\n",
    "        w.description='Updated'\n",
    "\n",
    "w.observe(on_change)\n",
    "\n",
    "info = widgets.Text(\n",
    "    value='Hello World',\n",
    "    placeholder='Type something',\n",
    "    description='String:',\n",
    "    disabled=False\n",
    ")\n",
    "\n",
    "display(w)\n",
    "display(info)"
   ]
  },
  {
   "cell_type": "code",
   "execution_count": 1,
   "metadata": {},
   "outputs": [
    {
     "data": {
      "text/html": [
       "<h3>Arbitrary HTML 16e29752-f33b-4cc1-987b-8fa29c30d148</h3>"
      ],
      "text/plain": [
       "<IPython.core.display.HTML object>"
      ]
     },
     "metadata": {},
     "output_type": "display_data"
    },
    {
     "data": {
      "application/vnd.jupyter.widget-view+json": {
       "model_id": "c28e21ae0ce347cf932cbf1c9e737f86",
       "version_major": 2,
       "version_minor": 0
      },
      "text/plain": [
       "Output()"
      ]
     },
     "metadata": {},
     "output_type": "display_data"
    },
    {
     "data": {
      "application/vnd.jupyter.widget-view+json": {
       "model_id": "deb811c01a024209b38266c90d35815c",
       "version_major": 2,
       "version_minor": 0
      },
      "text/plain": [
       "IntSlider(value=0)"
      ]
     },
     "metadata": {},
     "output_type": "display_data"
    }
   ],
   "source": [
    "from ipywidgets import *\n",
    "from IPython.display import display, HTML\n",
    "from uuid import uuid4\n",
    "w = IntSlider()\n",
    "pure_html_display_hander = display(HTML('starting text'),\n",
    "                                   display_id = str(uuid4()))\n",
    "\n",
    "out = Output()\n",
    "display(out)\n",
    "display(w)\n",
    "\n",
    "@out.capture()\n",
    "def callback(change):\n",
    "    display_html = HTML(f'<h3>Arbitrary HTML {uuid4()}</h3>')\n",
    "    pure_html_display_hander.update(display_html)\n",
    "\n",
    "w.observe(callback, names=['value'])"
   ]
  },
  {
   "cell_type": "code",
   "execution_count": 3,
   "metadata": {},
   "outputs": [
    {
     "data": {
      "text/html": [
       "<h3>Arbitrary HTML 652d698e-7897-418b-9eec-cfa53a15e986</h3>"
      ],
      "text/plain": [
       "<IPython.core.display.HTML object>"
      ]
     },
     "metadata": {},
     "output_type": "display_data"
    },
    {
     "data": {
      "application/vnd.jupyter.widget-view+json": {
       "model_id": "89bc93b808284fb3977213c917f00016",
       "version_major": 2,
       "version_minor": 0
      },
      "text/plain": [
       "Output()"
      ]
     },
     "metadata": {},
     "output_type": "display_data"
    },
    {
     "data": {
      "application/vnd.jupyter.widget-view+json": {
       "model_id": "9d215baca28044a5807d066977a0ad3e",
       "version_major": 2,
       "version_minor": 0
      },
      "text/plain": [
       "ToggleButtons(description='Speed:', options=('Slow', 'Regular', 'Fast'), tooltips=('Description of slow', 'Des…"
      ]
     },
     "metadata": {},
     "output_type": "display_data"
    }
   ],
   "source": [
    "from ipywidgets import *\n",
    "from IPython.display import display, HTML\n",
    "from uuid import uuid4\n",
    "w = widgets.ToggleButtons(\n",
    "    options=['Slow', 'Regular', 'Fast'],\n",
    "    description='Speed:',\n",
    "    disabled=False,\n",
    "    button_style='', # 'success', 'info', 'warning', 'danger' or ''\n",
    "    tooltips=['Description of slow', 'Description of regular', 'Description of fast'],\n",
    "#     icons=['check'] * 3\n",
    ")\n",
    "\n",
    "pure_html_display_hander = display(HTML('starting text'),\n",
    "                                   display_id = str(uuid4()))\n",
    "\n",
    "out = Output()\n",
    "display(out)\n",
    "display(w)\n",
    "\n",
    "@out.capture()\n",
    "def callback(change):\n",
    "    display_html = HTML(f'<h3>Arbitrary HTML {uuid4()}</h3>')\n",
    "    pure_html_display_hander.update(display_html)\n",
    "\n",
    "w.observe(callback, names=['value'])"
   ]
  },
  {
   "cell_type": "code",
   "execution_count": 22,
   "metadata": {
    "scrolled": false
   },
   "outputs": [
    {
     "data": {
      "application/vnd.jupyter.widget-view+json": {
       "model_id": "5d65acb722b245e8bb4cf99f9f5fb57d",
       "version_major": 2,
       "version_minor": 0
      },
      "text/plain": [
       "Button(description='update', style=ButtonStyle())"
      ]
     },
     "metadata": {},
     "output_type": "display_data"
    },
    {
     "data": {
      "application/vnd.jupyter.widget-view+json": {
       "model_id": "6b404483edc74b01abe75fe46de45ed7",
       "version_major": 2,
       "version_minor": 0
      },
      "text/plain": [
       "VBox(children=(Output(),), layout=Layout(border='2px solid grey'))"
      ]
     },
     "metadata": {},
     "output_type": "display_data"
    }
   ],
   "source": [
    "# create a display widget to show progress through a list.  \n",
    "\n",
    "from IPython.display import display, Markdown, clear_output\n",
    "from ipywidgets import widgets, Layout\n",
    "\n",
    "test_list = [1,2,3,4,5]\n",
    "test_list_iterator = iter(test_list)\n",
    "\n",
    "def get_next_item(subject_list):\n",
    "    item = subject_list.pop()\n",
    "    return item \n",
    "\n",
    "progress_info = widgets.Output()\n",
    "\n",
    "def show_progress(button, list_iterator, test_list):\n",
    "    try:\n",
    "        current_value = next(list_iterator)\n",
    "        max_length = len(test_list)\n",
    "        message = current_value, \" / \", max_length\n",
    "    except StopIteration as e:\n",
    "        message   = \"we have hit the end of the list!\"\n",
    "    with progress_info:\n",
    "        # what happens when we press the button\n",
    "        clear_output()\n",
    "        print(message)\n",
    "        \n",
    "def get_progress(button):\n",
    "    show_progress(button, test_list_iterator, test_list)\n",
    "        \n",
    "button = widgets.Button(description = \"update\")\n",
    "button.on_click(get_progress)\n",
    "\n",
    "info_pane = widgets.VBox([progress_info],layout=Layout(border=\"2px solid grey\"))\n",
    "display(button)\n",
    "display(info_pane)"
   ]
  },
  {
   "cell_type": "code",
   "execution_count": null,
   "metadata": {},
   "outputs": [],
   "source": []
  },
  {
   "cell_type": "code",
   "execution_count": 5,
   "metadata": {},
   "outputs": [
    {
     "data": {
      "application/vnd.jupyter.widget-view+json": {
       "model_id": "abe3c075d432497f9d534454dc0844aa",
       "version_major": 2,
       "version_minor": 0
      },
      "text/plain": [
       "HBox(children=(VBox(children=(Button(description='lunch', style=ButtonStyle()), Button(description='travelsavi…"
      ]
     },
     "metadata": {},
     "output_type": "display_data"
    }
   ],
   "source": [
    "from IPython.display import display, Markdown, clear_output\n",
    "from ipywidgets import widgets, Layout\n",
    "\n",
    "tags = list(set([x[3] for x in all_tagged_data]))\n",
    "\n",
    "options = [\"house\",\"mortgage\",\"win\",\"geek\",\"travel\"]\n",
    "button_names = []\n",
    "buttons = []\n",
    "\n",
    "info = widgets.Output()\n",
    "out = widgets.Output()\n",
    "\n",
    "def am_clicked(button):\n",
    "    with out:\n",
    "        # what happens when we press the button\n",
    "        clear_output()\n",
    "        print(button.description)\n",
    "    with info:\n",
    "        # what happens when we press the button\n",
    "        clear_output()\n",
    "        for data in all_tagged_data[0:3]:\n",
    "            print(data)\n",
    "\n",
    "for index, opt in  enumerate(tags):\n",
    "    buttons.append(widgets.Button(description = opt))\n",
    "    buttons[index].on_click(am_clicked)\n",
    "    \n",
    "# buttons.append(out)\n",
    "tags = widgets.VBox(buttons)\n",
    "info_pane = widgets.VBox([info,out],layout=Layout(border=\"2px solid grey\"))\n",
    "display(widgets.HBox([tags,info_pane]))"
   ]
  },
  {
   "cell_type": "code",
   "execution_count": null,
   "metadata": {},
   "outputs": [],
   "source": []
  },
  {
   "cell_type": "code",
   "execution_count": null,
   "metadata": {},
   "outputs": [],
   "source": []
  }
 ],
 "metadata": {
  "kernelspec": {
   "display_name": "Python 3",
   "language": "python",
   "name": "python3"
  },
  "language_info": {
   "codemirror_mode": {
    "name": "ipython",
    "version": 3
   },
   "file_extension": ".py",
   "mimetype": "text/x-python",
   "name": "python",
   "nbconvert_exporter": "python",
   "pygments_lexer": "ipython3",
   "version": "3.7.1"
  },
  "toc": {
   "base_numbering": 1,
   "nav_menu": {},
   "number_sections": true,
   "sideBar": true,
   "skip_h1_title": false,
   "title_cell": "Table of Contents",
   "title_sidebar": "Contents",
   "toc_cell": false,
   "toc_position": {},
   "toc_section_display": true,
   "toc_window_display": false
  },
  "varInspector": {
   "cols": {
    "lenName": 16,
    "lenType": 16,
    "lenVar": 40
   },
   "kernels_config": {
    "python": {
     "delete_cmd_postfix": "",
     "delete_cmd_prefix": "del ",
     "library": "var_list.py",
     "varRefreshCmd": "print(var_dic_list())"
    },
    "r": {
     "delete_cmd_postfix": ") ",
     "delete_cmd_prefix": "rm(",
     "library": "var_list.r",
     "varRefreshCmd": "cat(var_dic_list()) "
    }
   },
   "types_to_exclude": [
    "module",
    "function",
    "builtin_function_or_method",
    "instance",
    "_Feature"
   ],
   "window_display": false
  }
 },
 "nbformat": 4,
 "nbformat_minor": 2
}

{
 "cells": [
  {
   "cell_type": "code",
   "execution_count": 1,
   "metadata": {},
   "outputs": [],
   "source": [
    "%store -r all_spend_with_tags"
   ]
  },
  {
   "cell_type": "code",
   "execution_count": 5,
   "metadata": {},
   "outputs": [],
   "source": [
    "from difflib import SequenceMatcher"
   ]
  },
  {
   "cell_type": "code",
   "execution_count": 2,
   "metadata": {},
   "outputs": [
    {
     "data": {
      "text/plain": [
       "[['2018-10-12', \"DUTY FREE MTL INT'L DUT ST-LAURENT\", ' 57.76', 'untagged'],\n",
       " ['2018-10-13', 'GITHUB GITHUB SAN FRANCISCO', ' 5.48', 'untagged'],\n",
       " ['2018-10-13', 'IZ *KINGSLAND ROAD WORK LONDON', ' 10.80', 'untagged']]"
      ]
     },
     "execution_count": 2,
     "metadata": {},
     "output_type": "execute_result"
    }
   ],
   "source": [
    "all_spend_with_tags[0:3]"
   ]
  },
  {
   "cell_type": "code",
   "execution_count": 26,
   "metadata": {},
   "outputs": [],
   "source": [
    "tagged_list = []\n",
    "untagged_list = []\n",
    "for spend in all_spend_with_tags:\n",
    "    if spend[3] == 'untagged':\n",
    "        untagged_list.append(spend)\n",
    "    else:\n",
    "        tagged_list.append(spend)"
   ]
  },
  {
   "cell_type": "code",
   "execution_count": 15,
   "metadata": {},
   "outputs": [],
   "source": [
    "def similar(a, b):\n",
    "    return SequenceMatcher(None, a, b).ratio()"
   ]
  },
  {
   "cell_type": "code",
   "execution_count": 16,
   "metadata": {},
   "outputs": [],
   "source": [
    "groups = []\n",
    "compare_list = untagged_list.copy()\n",
    "for untagged in untagged_list:\n",
    "    grouping = [untagged]\n",
    "    compare_list.remove(untagged) # remove from the target list, if it's there, so we don't double group\n",
    "    for compare in compare_list:\n",
    "        similar_metric = similar(untagged[1], compare[1])\n",
    "        if similar_metric > 0.6:\n",
    "            compare_list.remove(compare) # check this, not working well \n",
    "            untagged_list.remove(compare) # remove from the source list, if it's there, as we have now grouped it! \n",
    "            grouping.append(compare)\n",
    "    groups.append(grouping)"
   ]
  },
  {
   "cell_type": "code",
   "execution_count": 19,
   "metadata": {},
   "outputs": [],
   "source": [
    "def created_loose_groups(source_list, target_list):\n",
    "    \"\"\"a loose group is created when we have a similarity more than 0.6\"\"\"\n",
    "    groups = []\n",
    "    for source in source_list:\n",
    "        grouping = [source] # seed of the group\n",
    "        if source in target_list: target_list.remove(source)\n",
    "        for target in target_list:\n",
    "            similar_metric = similar(source[1], target[1])\n",
    "            if similar_metric > 0.6:\n",
    "                target_list.remove(target) # check this, not working well \n",
    "                if target in source_list: source_list.remove(target)\n",
    "                grouping.append(target)\n",
    "        groups.append(grouping)\n",
    "    return groups"
   ]
  },
  {
   "cell_type": "code",
   "execution_count": 18,
   "metadata": {},
   "outputs": [
    {
     "data": {
      "text/plain": [
       "79"
      ]
     },
     "execution_count": 18,
     "metadata": {},
     "output_type": "execute_result"
    }
   ],
   "source": [
    "len(groups)"
   ]
  },
  {
   "cell_type": "code",
   "execution_count": 21,
   "metadata": {},
   "outputs": [],
   "source": [
    "compare_list = untagged_list.copy()"
   ]
  },
  {
   "cell_type": "code",
   "execution_count": 22,
   "metadata": {},
   "outputs": [],
   "source": [
    "test_grouping = created_loose_groups(compare_list, untagged_list)"
   ]
  },
  {
   "cell_type": "code",
   "execution_count": 23,
   "metadata": {},
   "outputs": [
    {
     "data": {
      "text/plain": [
       "79"
      ]
     },
     "execution_count": 23,
     "metadata": {},
     "output_type": "execute_result"
    }
   ],
   "source": [
    "len(test_grouping)"
   ]
  },
  {
   "cell_type": "code",
   "execution_count": 27,
   "metadata": {},
   "outputs": [],
   "source": [
    "grouping_with_tags = created_loose_groups(untagged_list, tagged_list)"
   ]
  },
  {
   "cell_type": "code",
   "execution_count": 28,
   "metadata": {},
   "outputs": [
    {
     "data": {
      "text/plain": [
       "183"
      ]
     },
     "execution_count": 28,
     "metadata": {},
     "output_type": "execute_result"
    }
   ],
   "source": [
    "len(grouping_with_tags)"
   ]
  },
  {
   "cell_type": "code",
   "execution_count": 30,
   "metadata": {},
   "outputs": [],
   "source": [
    "tags = [x[3] for x in all_spend_with_tags]"
   ]
  },
  {
   "cell_type": "code",
   "execution_count": 33,
   "metadata": {},
   "outputs": [
    {
     "data": {
      "text/plain": [
       "18"
      ]
     },
     "execution_count": 33,
     "metadata": {},
     "output_type": "execute_result"
    }
   ],
   "source": [
    "tags = set(tags)\n",
    "len(tags)"
   ]
  },
  {
   "cell_type": "code",
   "execution_count": 34,
   "metadata": {},
   "outputs": [
    {
     "data": {
      "text/plain": [
       "{'climbing',\n",
       " 'coffee',\n",
       " 'entertainment',\n",
       " 'entertainment ',\n",
       " 'food',\n",
       " 'geek',\n",
       " 'gifts',\n",
       " 'household',\n",
       " 'household ',\n",
       " 'kids',\n",
       " 'lunch',\n",
       " 'phone',\n",
       " 'restaurants',\n",
       " 'taxi',\n",
       " 'travel',\n",
       " 'travel ',\n",
       " 'travelsavings',\n",
       " 'untagged'}"
      ]
     },
     "execution_count": 34,
     "metadata": {},
     "output_type": "execute_result"
    }
   ],
   "source": [
    "tags"
   ]
  },
  {
   "cell_type": "code",
   "execution_count": null,
   "metadata": {},
   "outputs": [],
   "source": []
  }
 ],
 "metadata": {
  "kernelspec": {
   "display_name": "Python 3",
   "language": "python",
   "name": "python3"
  },
  "language_info": {
   "codemirror_mode": {
    "name": "ipython",
    "version": 3
   },
   "file_extension": ".py",
   "mimetype": "text/x-python",
   "name": "python",
   "nbconvert_exporter": "python",
   "pygments_lexer": "ipython3",
   "version": "3.6.0"
  }
 },
 "nbformat": 4,
 "nbformat_minor": 2
}

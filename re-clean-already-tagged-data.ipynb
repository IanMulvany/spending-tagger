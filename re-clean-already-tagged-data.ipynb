{
 "cells": [
  {
   "cell_type": "markdown",
   "metadata": {},
   "source": [
    "take in the already tagged files and then:\n",
    "\n",
    "- normalise dates\n",
    "- combine the files \n",
    "- print them out in order"
   ]
  },
  {
   "cell_type": "code",
   "execution_count": 15,
   "metadata": {},
   "outputs": [],
   "source": [
    "import glob\n",
    "import csv"
   ]
  },
  {
   "cell_type": "code",
   "execution_count": 92,
   "metadata": {},
   "outputs": [],
   "source": [
    "def get_tsv_files():\n",
    "    tsv_files = glob.glob(\"/Users/ianm/Dropbox/workbench/monthly-tracker/*.txt\")\n",
    "    return tsv_files"
   ]
  },
  {
   "cell_type": "code",
   "execution_count": 93,
   "metadata": {},
   "outputs": [],
   "source": [
    "def read_tsv_file(filename):\n",
    "    tsv_data = []\n",
    "    with open(filename) as tsvin:\n",
    "        tsvin = csv.reader(tsvin, delimiter='\\t')\n",
    "        next(tsvin)\n",
    "        for row in tsvin:\n",
    "            date = row[0]\n",
    "            description = row[1]\n",
    "            amount = row[2]\n",
    "            tag = row[3]\n",
    "            if date != '': tsv_data.append((date, description, amount, tag))\n",
    "    return tsv_data"
   ]
  },
  {
   "cell_type": "code",
   "execution_count": 94,
   "metadata": {},
   "outputs": [],
   "source": [
    "tsv_files = get_tsv_files()"
   ]
  },
  {
   "cell_type": "code",
   "execution_count": 95,
   "metadata": {},
   "outputs": [],
   "source": [
    "def replace_slash_with_hyphen(date):\n",
    "    date_unslashed = date.replace(\"/\",\"-\")\n",
    "    return date_unslashed"
   ]
  },
  {
   "cell_type": "code",
   "execution_count": 96,
   "metadata": {},
   "outputs": [],
   "source": [
    "def separate_year(date):\n",
    "    date_parts = date.split(\"-\")#remove(str(year))\n",
    "    for part in date_parts: \n",
    "        if len(part) == 4: \n",
    "            year = part\n",
    "            date_parts.remove(part)\n",
    "    return year, date_parts"
   ]
  },
  {
   "cell_type": "code",
   "execution_count": 97,
   "metadata": {},
   "outputs": [],
   "source": [
    "def infer_start_end_month(datarows):\n",
    "    print(len(datarows))\n",
    "    for date in dates:\n",
    "        unslashed_date = replace_slash_with_hyphen(date)\n",
    "        year, date_parts = separate_year(unslashed_date)\n",
    "        for part in date_parts: \n",
    "            if part == \"28\": # we know the other part of the date is the lower bound month! \n",
    "                date_parts.remove(\"28\")\n",
    "                month_one = int(date_parts[0])\n",
    "                if month_one == 12: \n",
    "                    month_two = '01'\n",
    "                else:\n",
    "                    month_two = str(month_one +1)\n",
    "                return(month_one, month_two)"
   ]
  },
  {
   "cell_type": "code",
   "execution_count": 98,
   "metadata": {},
   "outputs": [],
   "source": [
    "def normalise_date(date: str, month_one: str, month_two: str) -> str:\n",
    "    start_day = 23\n",
    "    unslashed_date = replace_slash_with_hyphen(date)\n",
    "    year, date_parts = separate_year(unslashed_date)\n",
    "    #print(date_parts[-1], month_one)\n",
    "    if date_parts[-1] == str(month_one):\n",
    "        if date_parts[0] >= str(start_day):\n",
    "            date_parts.reverse()\n",
    "    if date_parts[-1] == month_two:\n",
    "        date_parts.reverse()\n",
    "    normalised_date = year + '-' + date_parts[0] + '-' + date_parts[1]\n",
    "    return normalised_date "
   ]
  },
  {
   "cell_type": "code",
   "execution_count": 101,
   "metadata": {},
   "outputs": [
    {
     "name": "stdout",
     "output_type": "stream",
     "text": [
      "128\n",
      "132\n",
      "165\n"
     ]
    }
   ],
   "source": [
    "all_tagged_data = []\n",
    "for tfile in tsv_files:\n",
    "    try:\n",
    "        data = read_tsv_file(tfile)\n",
    "        dates = [x[0] for x in data]\n",
    "        start, end = infer_start_end_month(dates)\n",
    "        normalised_dates = [normalise_date(x, start, end) for x in dates]\n",
    "        normalised_data = []\n",
    "        for index, row in enumerate(data):\n",
    "            normalised_data.append((normalised_dates[index],row[1],row[2], row[3]))\n",
    "        normalised_data.sort()\n",
    "        all_tagged_data.extend(normalised_data)\n",
    "    except:\n",
    "        print(tfile)"
   ]
  },
  {
   "cell_type": "code",
   "execution_count": 103,
   "metadata": {},
   "outputs": [],
   "source": [
    "all_tagged_data.sort()"
   ]
  },
  {
   "cell_type": "code",
   "execution_count": 105,
   "metadata": {},
   "outputs": [
    {
     "data": {
      "text/plain": [
       "425"
      ]
     },
     "execution_count": 105,
     "metadata": {},
     "output_type": "execute_result"
    }
   ],
   "source": [
    "len(all_tagged_data)"
   ]
  },
  {
   "cell_type": "code",
   "execution_count": 106,
   "metadata": {},
   "outputs": [
    {
     "name": "stdout",
     "output_type": "stream",
     "text": [
      "Stored 'all_tagged_data' (list)\n"
     ]
    }
   ],
   "source": [
    "%store all_tagged_data "
   ]
  },
  {
   "cell_type": "code",
   "execution_count": 109,
   "metadata": {},
   "outputs": [],
   "source": [
    "test_tagged_data = all_tagged_data[0:5]"
   ]
  },
  {
   "cell_type": "code",
   "execution_count": 110,
   "metadata": {},
   "outputs": [
    {
     "data": {
      "text/plain": [
       "[('2018-10-22', 'PRET A MANGERCITY ROAD LONDON', '6.43', 'lunch'),\n",
       " ('2018-10-22', \"SAINSBURY'S BROMLEYBY LONDON\", '186.37', 'food'),\n",
       " ('2018-10-23', 'TFL TRAVEL CHARGE TFL.GOV.UK/CP', '5.8', 'travel'),\n",
       " ('2018-10-24', '', '292', 'travel'),\n",
       " ('2018-10-24', '', '330', 'travel')]"
      ]
     },
     "execution_count": 110,
     "metadata": {},
     "output_type": "execute_result"
    }
   ],
   "source": [
    "test_tagged_data"
   ]
  },
  {
   "cell_type": "code",
   "execution_count": 111,
   "metadata": {},
   "outputs": [],
   "source": [
    "test_tagged_data_kyes = [(x[0], x[1], x[2]) for x in test_tagged_data]"
   ]
  },
  {
   "cell_type": "code",
   "execution_count": 112,
   "metadata": {},
   "outputs": [
    {
     "data": {
      "text/plain": [
       "[('2018-10-22', 'PRET A MANGERCITY ROAD LONDON', '6.43'),\n",
       " ('2018-10-22', \"SAINSBURY'S BROMLEYBY LONDON\", '186.37'),\n",
       " ('2018-10-23', 'TFL TRAVEL CHARGE TFL.GOV.UK/CP', '5.8'),\n",
       " ('2018-10-24', '', '292'),\n",
       " ('2018-10-24', '', '330')]"
      ]
     },
     "execution_count": 112,
     "metadata": {},
     "output_type": "execute_result"
    }
   ],
   "source": [
    "test_tagged_data_kyes"
   ]
  },
  {
   "cell_type": "code",
   "execution_count": null,
   "metadata": {},
   "outputs": [],
   "source": [
    "for spend in test_tagged_data_kyes:\n",
    "    if spend in "
   ]
  }
 ],
 "metadata": {
  "kernelspec": {
   "display_name": "Python 3",
   "language": "python",
   "name": "python3"
  },
  "language_info": {
   "codemirror_mode": {
    "name": "ipython",
    "version": 3
   },
   "file_extension": ".py",
   "mimetype": "text/x-python",
   "name": "python",
   "nbconvert_exporter": "python",
   "pygments_lexer": "ipython3",
   "version": "3.6.0"
  }
 },
 "nbformat": 4,
 "nbformat_minor": 2
}
